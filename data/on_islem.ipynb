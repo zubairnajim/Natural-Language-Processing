{
 "cells": [
  {
   "cell_type": "markdown",
   "id": "01f365dd-2d6c-4030-a93f-fafcf006ff6c",
   "metadata": {},
   "source": [
    "#On Islem"
   ]
  },
  {
   "cell_type": "code",
   "execution_count": 9,
   "id": "d4db85b7-371f-4572-8595-560c3a509eb5",
   "metadata": {},
   "outputs": [],
   "source": [
    "import os"
   ]
  },
  {
   "cell_type": "code",
   "execution_count": 15,
   "id": "630a82a1-c1f6-4213-8b64-0782f630c3ce",
   "metadata": {},
   "outputs": [
    {
     "data": {
      "text/plain": [
       "'X:\\\\EEM Dosyalar\\\\Yazan Zeka 4e Academy\\\\NLP Dogal Dil\\\\Natural-Language-Processing\\\\data'"
      ]
     },
     "execution_count": 15,
     "metadata": {},
     "output_type": "execute_result"
    }
   ],
   "source": [
    "os.getcwd()"
   ]
  },
  {
   "cell_type": "code",
   "execution_count": 2,
   "id": "46fd10eb-ca4e-4b13-88d2-b4ba107243f3",
   "metadata": {},
   "outputs": [],
   "source": [
    "text = open(\"X:\\\\EEM Dosyalar\\\\Yazan Zeka 4e Academy\\\\NLP Dogal Dil\\\\Natural-Language-Processing/data/text.txt\",\n",
    "            \"r\")\n",
    "nlp = text.read()\n",
    "\n"
   ]
  },
  {
   "cell_type": "code",
   "execution_count": 3,
   "id": "8005ca34-fb6f-4f1d-94f0-85a7ea3eccd4",
   "metadata": {
    "editable": true,
    "slideshow": {
     "slide_type": ""
    },
    "tags": []
   },
   "outputs": [
    {
     "data": {
      "text/plain": [
       "'NLP yani DoÄŸal Dil Ä°ÅŸleme, doÄŸal dillerin kurallÄ± yapÄ±sÄ±nÄ±n Ã§Ã¶zÃ¼mlenerek anlaÅŸÄ±lmasÄ± veya yeniden Ã¼retilmesi amacÄ±nÄ± taÅŸÄ±r.Bu Ã§Ã¶zÃ¼mlemenin insana getireceÄŸi kolaylÄ±klar, yazÄ±lÄ± dokÃ¼manlarÄ±n otomatik Ã§evrilmesi, soru-cevap makineleri, otomatik konuÅŸma ve komut anlama, konuÅŸma sentezi, konuÅŸma Ã¼retme, otomatik metin Ã¶zetleme, bilgi saÄŸlama gibi birÃ§ok baÅŸlÄ±kla Ã¶zetlenebilir. Bilgisayar teknolojisinin yaygÄ±n kullanÄ±mÄ±, bu baÅŸlÄ±klardan Ã¼retilen uzman yazÄ±lÄ±mlarÄ±n gÃ¼ndelik hayatÄ±mÄ±zÄ±n her alanÄ±na girmesini saÄŸlamÄ±ÅŸtÄ±r. Ã–rneÄŸin, tÃ¼m kelime iÅŸlem yazÄ±lÄ±mlarÄ± birer imlÃ¢ dÃ¼zeltme aracÄ± taÅŸÄ±r. Bu araÃ§lar aslÄ±nda yazÄ±lan metni Ã§Ã¶zÃ¼mleyerek dil kurallarÄ±nÄ± denetleyen doÄŸal dil iÅŸleme yazÄ±lÄ±mlarÄ±dÄ±r.'"
      ]
     },
     "execution_count": 3,
     "metadata": {},
     "output_type": "execute_result"
    }
   ],
   "source": [
    "nlp"
   ]
  },
  {
   "cell_type": "code",
   "execution_count": 24,
   "id": "391b06b9-afda-49c4-8b73-1e1184b559e1",
   "metadata": {},
   "outputs": [],
   "source": [
    "import pandas as pd"
   ]
  },
  {
   "cell_type": "code",
   "execution_count": 25,
   "id": "873192f6-8169-4b5f-84eb-80c14520f0d6",
   "metadata": {},
   "outputs": [],
   "source": [
    "df = pd.read_csv(\"X:\\\\EEM Dosyalar\\\\Yazan Zeka 4e Academy\\\\NLP Dogal Dil\\\\Natural-Language-Processing/data/nlp-230518-121949.csv\", \n",
    "              index_col = 0)\n",
    "        "
   ]
  },
  {
   "cell_type": "code",
   "execution_count": 26,
   "id": "d4aa48b0-1014-4707-812b-fb00c480de2b",
   "metadata": {},
   "outputs": [
    {
     "data": {
      "text/html": [
       "<div>\n",
       "<style scoped>\n",
       "    .dataframe tbody tr th:only-of-type {\n",
       "        vertical-align: middle;\n",
       "    }\n",
       "\n",
       "    .dataframe tbody tr th {\n",
       "        vertical-align: top;\n",
       "    }\n",
       "\n",
       "    .dataframe thead th {\n",
       "        text-align: right;\n",
       "    }\n",
       "</style>\n",
       "<table border=\"1\" class=\"dataframe\">\n",
       "  <thead>\n",
       "    <tr style=\"text-align: right;\">\n",
       "      <th></th>\n",
       "      <th>Text</th>\n",
       "    </tr>\n",
       "  </thead>\n",
       "  <tbody>\n",
       "    <tr>\n",
       "      <th>0</th>\n",
       "      <td>Yapay Zeka Nedir, Ne İşe Yarar?\\n\\nYapay zeka ...</td>\n",
       "    </tr>\n",
       "    <tr>\n",
       "      <th>1</th>\n",
       "      <td>🔎 Verilerinizi analiz edin: \\nChatGPT'yi kulla...</td>\n",
       "    </tr>\n",
       "    <tr>\n",
       "      <th>2</th>\n",
       "      <td>Öncelikle yapay zekanın ne olduğunu, #dijitala...</td>\n",
       "    </tr>\n",
       "    <tr>\n",
       "      <th>3</th>\n",
       "      <td>9. Baidu Research: Çin'in önde gelen arama mot...</td>\n",
       "    </tr>\n",
       "    <tr>\n",
       "      <th>4</th>\n",
       "      <td>4. Microsoft AI: Microsoft'un yapay zeka tekno...</td>\n",
       "    </tr>\n",
       "    <tr>\n",
       "      <th>...</th>\n",
       "      <td>...</td>\n",
       "    </tr>\n",
       "    <tr>\n",
       "      <th>853</th>\n",
       "      <td>doğal dil işleme alanında yüksek lisans-doktor...</td>\n",
       "    </tr>\n",
       "    <tr>\n",
       "      <th>854</th>\n",
       "      <td>dogal dil isleme şeyleri</td>\n",
       "    </tr>\n",
       "    <tr>\n",
       "      <th>855</th>\n",
       "      <td>Bir veri madenciliği ve doğal dil işleme uygul...</td>\n",
       "    </tr>\n",
       "    <tr>\n",
       "      <th>856</th>\n",
       "      <td>\"Doğal dil işleme\" ile ilgili deneyimi olan ya...</td>\n",
       "    </tr>\n",
       "    <tr>\n",
       "      <th>857</th>\n",
       "      <td>Haftaya öğrencilik hayatıma kaldığım yerden de...</td>\n",
       "    </tr>\n",
       "  </tbody>\n",
       "</table>\n",
       "<p>858 rows × 1 columns</p>\n",
       "</div>"
      ],
      "text/plain": [
       "                                                  Text\n",
       "0    Yapay Zeka Nedir, Ne İşe Yarar?\\n\\nYapay zeka ...\n",
       "1    🔎 Verilerinizi analiz edin: \\nChatGPT'yi kulla...\n",
       "2    Öncelikle yapay zekanın ne olduğunu, #dijitala...\n",
       "3    9. Baidu Research: Çin'in önde gelen arama mot...\n",
       "4    4. Microsoft AI: Microsoft'un yapay zeka tekno...\n",
       "..                                                 ...\n",
       "853  doğal dil işleme alanında yüksek lisans-doktor...\n",
       "854                           dogal dil isleme şeyleri\n",
       "855  Bir veri madenciliği ve doğal dil işleme uygul...\n",
       "856  \"Doğal dil işleme\" ile ilgili deneyimi olan ya...\n",
       "857  Haftaya öğrencilik hayatıma kaldığım yerden de...\n",
       "\n",
       "[858 rows x 1 columns]"
      ]
     },
     "execution_count": 26,
     "metadata": {},
     "output_type": "execute_result"
    }
   ],
   "source": [
    "df"
   ]
  },
  {
   "cell_type": "code",
   "execution_count": 27,
   "id": "17dfc06e-db27-4f42-9f01-27017f33b66f",
   "metadata": {},
   "outputs": [
    {
     "data": {
      "text/html": [
       "<div>\n",
       "<style scoped>\n",
       "    .dataframe tbody tr th:only-of-type {\n",
       "        vertical-align: middle;\n",
       "    }\n",
       "\n",
       "    .dataframe tbody tr th {\n",
       "        vertical-align: top;\n",
       "    }\n",
       "\n",
       "    .dataframe thead th {\n",
       "        text-align: right;\n",
       "    }\n",
       "</style>\n",
       "<table border=\"1\" class=\"dataframe\">\n",
       "  <thead>\n",
       "    <tr style=\"text-align: right;\">\n",
       "      <th></th>\n",
       "      <th>Text</th>\n",
       "    </tr>\n",
       "  </thead>\n",
       "  <tbody>\n",
       "    <tr>\n",
       "      <th>0</th>\n",
       "      <td>Yapay Zeka Nedir, Ne İşe Yarar?\\n\\nYapay zeka ...</td>\n",
       "    </tr>\n",
       "    <tr>\n",
       "      <th>1</th>\n",
       "      <td>🔎 Verilerinizi analiz edin: \\nChatGPT'yi kulla...</td>\n",
       "    </tr>\n",
       "    <tr>\n",
       "      <th>2</th>\n",
       "      <td>Öncelikle yapay zekanın ne olduğunu, #dijitala...</td>\n",
       "    </tr>\n",
       "    <tr>\n",
       "      <th>3</th>\n",
       "      <td>9. Baidu Research: Çin'in önde gelen arama mot...</td>\n",
       "    </tr>\n",
       "    <tr>\n",
       "      <th>4</th>\n",
       "      <td>4. Microsoft AI: Microsoft'un yapay zeka tekno...</td>\n",
       "    </tr>\n",
       "  </tbody>\n",
       "</table>\n",
       "</div>"
      ],
      "text/plain": [
       "                                                Text\n",
       "0  Yapay Zeka Nedir, Ne İşe Yarar?\\n\\nYapay zeka ...\n",
       "1  🔎 Verilerinizi analiz edin: \\nChatGPT'yi kulla...\n",
       "2  Öncelikle yapay zekanın ne olduğunu, #dijitala...\n",
       "3  9. Baidu Research: Çin'in önde gelen arama mot...\n",
       "4  4. Microsoft AI: Microsoft'un yapay zeka tekno..."
      ]
     },
     "execution_count": 27,
     "metadata": {},
     "output_type": "execute_result"
    }
   ],
   "source": [
    "df.head()"
   ]
  },
  {
   "cell_type": "code",
   "execution_count": 28,
   "id": "74b72279-92cc-4a2b-8893-1f10cc474c92",
   "metadata": {},
   "outputs": [
    {
     "data": {
      "text/html": [
       "<div>\n",
       "<style scoped>\n",
       "    .dataframe tbody tr th:only-of-type {\n",
       "        vertical-align: middle;\n",
       "    }\n",
       "\n",
       "    .dataframe tbody tr th {\n",
       "        vertical-align: top;\n",
       "    }\n",
       "\n",
       "    .dataframe thead th {\n",
       "        text-align: right;\n",
       "    }\n",
       "</style>\n",
       "<table border=\"1\" class=\"dataframe\">\n",
       "  <thead>\n",
       "    <tr style=\"text-align: right;\">\n",
       "      <th></th>\n",
       "      <th>Text</th>\n",
       "    </tr>\n",
       "  </thead>\n",
       "  <tbody>\n",
       "    <tr>\n",
       "      <th>853</th>\n",
       "      <td>doğal dil işleme alanında yüksek lisans-doktor...</td>\n",
       "    </tr>\n",
       "    <tr>\n",
       "      <th>854</th>\n",
       "      <td>dogal dil isleme şeyleri</td>\n",
       "    </tr>\n",
       "    <tr>\n",
       "      <th>855</th>\n",
       "      <td>Bir veri madenciliği ve doğal dil işleme uygul...</td>\n",
       "    </tr>\n",
       "    <tr>\n",
       "      <th>856</th>\n",
       "      <td>\"Doğal dil işleme\" ile ilgili deneyimi olan ya...</td>\n",
       "    </tr>\n",
       "    <tr>\n",
       "      <th>857</th>\n",
       "      <td>Haftaya öğrencilik hayatıma kaldığım yerden de...</td>\n",
       "    </tr>\n",
       "  </tbody>\n",
       "</table>\n",
       "</div>"
      ],
      "text/plain": [
       "                                                  Text\n",
       "853  doğal dil işleme alanında yüksek lisans-doktor...\n",
       "854                           dogal dil isleme şeyleri\n",
       "855  Bir veri madenciliği ve doğal dil işleme uygul...\n",
       "856  \"Doğal dil işleme\" ile ilgili deneyimi olan ya...\n",
       "857  Haftaya öğrencilik hayatıma kaldığım yerden de..."
      ]
     },
     "execution_count": 28,
     "metadata": {},
     "output_type": "execute_result"
    }
   ],
   "source": [
    "df.tail()"
   ]
  },
  {
   "cell_type": "code",
   "execution_count": 29,
   "id": "acddbe1d-2c65-4b72-82a0-eac86e1e0814",
   "metadata": {},
   "outputs": [
    {
     "data": {
      "text/plain": [
       "'\"Yapay zeka dünyası hızla gelişiyor! Son zamanlarda, GPT-3, BERT ve benzeri doğal dil işleme modelleri ile daha da popüler hale geldi. Bu modeller, insanlar tarafından üretilen metinleri analiz ederek, dilin yapısını ve anlamını kavrayabiliyorlar.'"
      ]
     },
     "execution_count": 29,
     "metadata": {},
     "output_type": "execute_result"
    }
   ],
   "source": [
    "df.loc[100, \"Text\"]"
   ]
  },
  {
   "cell_type": "code",
   "execution_count": 69,
   "id": "36276214-889c-4a92-86f4-f12b1bbf283f",
   "metadata": {},
   "outputs": [
    {
     "data": {
      "text/plain": [
       "'halil ibrahim '"
      ]
     },
     "execution_count": 69,
     "metadata": {},
     "output_type": "execute_result"
    }
   ],
   "source": [
    "#Sayisal degerlerin yok edilmesi\n",
    "\n",
    "def remove_numeric(value):\n",
    "    bfr = [item for item in value if not item.isdigit()]\n",
    "    bfr = \"\".join(bfr)\n",
    "    return bfr\n",
    "\n",
    "text = \"halil ibrahim 123\"\n",
    "remove_numeric(text)"
   ]
  },
  {
   "cell_type": "code",
   "execution_count": 31,
   "id": "ec9855b0-8f8f-4312-a1d6-63bcc3ca3cd0",
   "metadata": {},
   "outputs": [],
   "source": [
    "import re"
   ]
  },
  {
   "cell_type": "code",
   "execution_count": 47,
   "id": "aa769d13-741b-46da-9044-b0181fc0244b",
   "metadata": {},
   "outputs": [
    {
     "data": {
      "text/plain": [
       "'halil ibrahim '"
      ]
     },
     "execution_count": 47,
     "metadata": {},
     "output_type": "execute_result"
    }
   ],
   "source": [
    "def remove_emoji(value):\n",
    "    bfr = re.compile(\"[\\U00010000-\\U0010ffff]\", flags = re.UNICODE)\n",
    "    bfr = bfr.sub(r'', value)\n",
    "    return bfr\n",
    "\n",
    "text = \"halil ibrahim 🔎\"\n",
    "remove_emoji(text)\n",
    "    "
   ]
  },
  {
   "cell_type": "code",
   "execution_count": 49,
   "id": "fecf250c-041d-4dae-a499-f09df6e4c1e5",
   "metadata": {},
   "outputs": [],
   "source": [
    "def remove_single_character(value):\n",
    "    return re.sub(r'(?:^|)\\w(?:$)', '', value)\n",
    "\n",
    "text = \"halil ibahim h\""
   ]
  },
  {
   "cell_type": "code",
   "execution_count": 53,
   "id": "077c9b14-e4cc-4acd-be65-87094997a4e9",
   "metadata": {},
   "outputs": [
    {
     "data": {
      "text/plain": [
       "'halil ibrahim'"
      ]
     },
     "execution_count": 53,
     "metadata": {},
     "output_type": "execute_result"
    }
   ],
   "source": [
    "#noktalama isaretlerin kaldirmasi\n",
    "def remove_noktalama(value):\n",
    "    return re.sub(r'[^\\w\\s]', '', value)\n",
    "\n",
    "text = 'halil ibrahim.'\n",
    "remove_noktalama(text)\n"
   ]
  },
  {
   "cell_type": "code",
   "execution_count": 60,
   "id": "d9b2583e-ef60-4f96-9cb8-31fd5f6c92b6",
   "metadata": {},
   "outputs": [
    {
     "data": {
      "text/plain": [
       "'halil '"
      ]
     },
     "execution_count": 60,
     "metadata": {},
     "output_type": "execute_result"
    }
   ],
   "source": [
    "def remove_link(value):\n",
    "    return re.sub(r'((www\\.[^s]+)|(https?://[^\\s]+))', '', value)\n",
    "\n",
    "text = 'halil https://linuxhint.com/update-git-repo/'\n",
    "remove_link(text)\n"
   ]
  },
  {
   "cell_type": "code",
   "execution_count": 61,
   "id": "89b2acc7-5ae3-4b73-9574-93cd8780c8f0",
   "metadata": {},
   "outputs": [
    {
     "data": {
      "text/plain": [
       "'halil '"
      ]
     },
     "execution_count": 61,
     "metadata": {},
     "output_type": "execute_result"
    }
   ],
   "source": [
    "#hashtag \n",
    "def remove_hash(value):\n",
    "    return re.sub(r'#[^\\s]+', '', value)\n",
    "\n",
    "text = 'halil #nlp'\n",
    "remove_hash(text)"
   ]
  },
  {
   "cell_type": "code",
   "execution_count": 62,
   "id": "095a292f-2b6c-4003-8678-aeff2b46bd4b",
   "metadata": {},
   "outputs": [
    {
     "data": {
      "text/plain": [
       "'halil'"
      ]
     },
     "execution_count": 62,
     "metadata": {},
     "output_type": "execute_result"
    }
   ],
   "source": [
    "def remove_username(value):\n",
    "    return re.sub(r'@[^\\s]+', '', value)\n",
    "\n",
    "text = 'halil@ibrahim'\n",
    "remove_username(text)"
   ]
  },
  {
   "cell_type": "code",
   "execution_count": 63,
   "id": "662f401e-2722-4e27-aad5-cceb6ae32b5b",
   "metadata": {},
   "outputs": [
    {
     "data": {
      "text/plain": [
       "'buguyorgu'"
      ]
     },
     "execution_count": 63,
     "metadata": {},
     "output_type": "execute_result"
    }
   ],
   "source": [
    "import snowballstemmer\n",
    "\n",
    "def stem_word(value):\n",
    "    stemmer = snowballstemmer.stemmer('turkish')\n",
    "    value = value.lower()\n",
    "    value = stemmer.stemWords(value.split())\n",
    "    stop_words = ['fakat','lakin','ancak','acaba', 'ama', 'aslında', 'az', 'bazı', 'belki', 'biri', 'birkaç',\n",
    "                   'birşey', 'biz', 'bu', 'çok', 'çünkü', 'da', 'daha', 'de', 'defa', 'diye', 'eğer', 'en', 'gibi',\n",
    "                   'hem', 'hep', 'hepsi', 'her', 'hiç', 'için', 'ile', 'ise', 'kez', 'ki', 'kim', 'mı', 'mu', 'mü',\n",
    "                   'nasıl', 'ne', 'neden', 'nerde', 'nerede', 'nereye', 'niçin', 'niye', 'o', 'sanki', 'şey', \n",
    "                   'siz', 'şu', 'tüm', 've', 'veya', 'ya', 'yani']\n",
    "    value = [item for item in value if not item in stop_words]\n",
    "    value = ''.join(value)\n",
    "    return value\n",
    "\n",
    "text = 'bugün çok yorgunum'\n",
    "stem_word(text)"
   ]
  },
  {
   "cell_type": "code",
   "execution_count": 71,
   "id": "3fdffc7c-a741-4123-9831-e5f148909219",
   "metadata": {},
   "outputs": [],
   "source": [
    "def pre_processing(value):\n",
    "    return [remove_numeric(remove_emoji\n",
    "                          (remove_single_character\n",
    "                           (remove_noktalama\n",
    "                            (remove_link\n",
    "                             (remove_hash\n",
    "                              (remove_username\n",
    "                               (stem_word(word)))))))) for word in value.split()]\n",
    "    "
   ]
  },
  {
   "cell_type": "code",
   "execution_count": 73,
   "id": "67f4ad0a-85ba-416c-a748-8f2d7364dd31",
   "metadata": {},
   "outputs": [],
   "source": [
    "df[\"Text_2\"] = df[\"Text\"].apply(pre_processing)"
   ]
  },
  {
   "cell_type": "code",
   "execution_count": 74,
   "id": "f6b0ab50-c458-4db1-8f25-3c1e998f44fc",
   "metadata": {},
   "outputs": [
    {
     "data": {
      "text/html": [
       "<div>\n",
       "<style scoped>\n",
       "    .dataframe tbody tr th:only-of-type {\n",
       "        vertical-align: middle;\n",
       "    }\n",
       "\n",
       "    .dataframe tbody tr th {\n",
       "        vertical-align: top;\n",
       "    }\n",
       "\n",
       "    .dataframe thead th {\n",
       "        text-align: right;\n",
       "    }\n",
       "</style>\n",
       "<table border=\"1\" class=\"dataframe\">\n",
       "  <thead>\n",
       "    <tr style=\"text-align: right;\">\n",
       "      <th></th>\n",
       "      <th>Text</th>\n",
       "      <th>Text_2</th>\n",
       "    </tr>\n",
       "  </thead>\n",
       "  <tbody>\n",
       "    <tr>\n",
       "      <th>0</th>\n",
       "      <td>Yapay Zeka Nedir, Ne İşe Yarar?\\n\\nYapay zeka ...</td>\n",
       "      <td>[yapa, zek, nedi, , iş, yara, yapa, zek, y, bi...</td>\n",
       "    </tr>\n",
       "    <tr>\n",
       "      <th>1</th>\n",
       "      <td>🔎 Verilerinizi analiz edin: \\nChatGPT'yi kulla...</td>\n",
       "      <td>[, ver, anali, edi, chatgpty, kullanara, doğa,...</td>\n",
       "    </tr>\n",
       "    <tr>\n",
       "      <th>2</th>\n",
       "      <td>Öncelikle yapay zekanın ne olduğunu, #dijitala...</td>\n",
       "      <td>[önceli, yapa, zek, , olduğun, , i, , öneml, o...</td>\n",
       "    </tr>\n",
       "    <tr>\n",
       "      <th>3</th>\n",
       "      <td>9. Baidu Research: Çin'in önde gelen arama mot...</td>\n",
       "      <td>[, baid, researc, çi, ö, gel, ar, moto, baidu,...</td>\n",
       "    </tr>\n",
       "    <tr>\n",
       "      <th>4</th>\n",
       "      <td>4. Microsoft AI: Microsoft'un yapay zeka tekno...</td>\n",
       "      <td>[, microsof, a, microsof, yapa, zek, teknoloj,...</td>\n",
       "    </tr>\n",
       "  </tbody>\n",
       "</table>\n",
       "</div>"
      ],
      "text/plain": [
       "                                                Text  \\\n",
       "0  Yapay Zeka Nedir, Ne İşe Yarar?\\n\\nYapay zeka ...   \n",
       "1  🔎 Verilerinizi analiz edin: \\nChatGPT'yi kulla...   \n",
       "2  Öncelikle yapay zekanın ne olduğunu, #dijitala...   \n",
       "3  9. Baidu Research: Çin'in önde gelen arama mot...   \n",
       "4  4. Microsoft AI: Microsoft'un yapay zeka tekno...   \n",
       "\n",
       "                                              Text_2  \n",
       "0  [yapa, zek, nedi, , iş, yara, yapa, zek, y, bi...  \n",
       "1  [, ver, anali, edi, chatgpty, kullanara, doğa,...  \n",
       "2  [önceli, yapa, zek, , olduğun, , i, , öneml, o...  \n",
       "3  [, baid, researc, çi, ö, gel, ar, moto, baidu,...  \n",
       "4  [, microsof, a, microsof, yapa, zek, teknoloj,...  "
      ]
     },
     "execution_count": 74,
     "metadata": {},
     "output_type": "execute_result"
    }
   ],
   "source": [
    "df.head()"
   ]
  },
  {
   "cell_type": "code",
   "execution_count": 76,
   "id": "5737d81a-0df8-4424-b143-c3b2f70d6ca1",
   "metadata": {},
   "outputs": [
    {
     "data": {
      "text/plain": [
       "'Yapay Zeka Nedir, Ne İşe Yarar?\\n\\nYapay zeka (YZ) bilgisayarlar ve diğer cihazların, insan zekasına benzer şekilde düşünmesini, öğrenmesini, kararlar vermesini ve problem çözmesini sağlayan bir bilim dalıdır. Yapay zeka teknolojisi, doğal dil işleme, ses tanıma, görüntü işleme,… https://t.co/nDH7iGOdFe'"
      ]
     },
     "execution_count": 76,
     "metadata": {},
     "output_type": "execute_result"
    }
   ],
   "source": [
    "df.loc[0, \"Text\"]"
   ]
  },
  {
   "cell_type": "code",
   "execution_count": 77,
   "id": "ca9677e4-5513-4caa-b35b-6f73bdfeb417",
   "metadata": {},
   "outputs": [
    {
     "data": {
      "text/plain": [
       "['yapa',\n",
       " 'zek',\n",
       " 'nedi',\n",
       " '',\n",
       " 'iş',\n",
       " 'yara',\n",
       " 'yapa',\n",
       " 'zek',\n",
       " 'y',\n",
       " 'bilgisaya',\n",
       " '',\n",
       " 'diğe',\n",
       " 'cihazları',\n",
       " 'i',\n",
       " 'zek',\n",
       " 'benze',\n",
       " 'şeki',\n",
       " 'düşünmesin',\n",
       " 'öğrenmesin',\n",
       " 'kara',\n",
       " 'verm',\n",
       " '',\n",
       " 'probl',\n",
       " 'çözm',\n",
       " 'sağlay',\n",
       " 'bi',\n",
       " 'bi',\n",
       " 'dalıdı',\n",
       " 'yapa',\n",
       " 'zek',\n",
       " 'teknolojis',\n",
       " 'doğa',\n",
       " 'di',\n",
       " 'işlem',\n",
       " 'se',\n",
       " 'tanım',\n",
       " 'gö',\n",
       " 'işlem',\n",
       " '']"
      ]
     },
     "execution_count": 77,
     "metadata": {},
     "output_type": "execute_result"
    }
   ],
   "source": [
    "df.loc[0, \"Text_2\"]"
   ]
  },
  {
   "cell_type": "code",
   "execution_count": 78,
   "id": "2a8b006f-6175-4e46-84d2-89a7056920e4",
   "metadata": {},
   "outputs": [],
   "source": [
    "#Bosluklari silmek\n",
    "\n",
    "def remove_space(value):\n",
    "    return [item for item in value if item.strip()]\n",
    "\n",
    "df[\"Text_2\"] = df[\"Text_2\"].apply(remove_space)"
   ]
  },
  {
   "cell_type": "code",
   "execution_count": 79,
   "id": "f2e6c783-af73-4d4e-a2c9-2a680b4d38e6",
   "metadata": {},
   "outputs": [
    {
     "data": {
      "text/plain": [
       "['yapa',\n",
       " 'zek',\n",
       " 'nedi',\n",
       " 'iş',\n",
       " 'yara',\n",
       " 'yapa',\n",
       " 'zek',\n",
       " 'y',\n",
       " 'bilgisaya',\n",
       " 'diğe',\n",
       " 'cihazları',\n",
       " 'i',\n",
       " 'zek',\n",
       " 'benze',\n",
       " 'şeki',\n",
       " 'düşünmesin',\n",
       " 'öğrenmesin',\n",
       " 'kara',\n",
       " 'verm',\n",
       " 'probl',\n",
       " 'çözm',\n",
       " 'sağlay',\n",
       " 'bi',\n",
       " 'bi',\n",
       " 'dalıdı',\n",
       " 'yapa',\n",
       " 'zek',\n",
       " 'teknolojis',\n",
       " 'doğa',\n",
       " 'di',\n",
       " 'işlem',\n",
       " 'se',\n",
       " 'tanım',\n",
       " 'gö',\n",
       " 'işlem']"
      ]
     },
     "execution_count": 79,
     "metadata": {},
     "output_type": "execute_result"
    }
   ],
   "source": [
    "df.loc[0, \"Text_2\"]"
   ]
  },
  {
   "cell_type": "code",
   "execution_count": 80,
   "id": "05852ad2-bbd8-48d8-bd4e-213fa655d1d8",
   "metadata": {},
   "outputs": [
    {
     "data": {
      "text/html": [
       "<div>\n",
       "<style scoped>\n",
       "    .dataframe tbody tr th:only-of-type {\n",
       "        vertical-align: middle;\n",
       "    }\n",
       "\n",
       "    .dataframe tbody tr th {\n",
       "        vertical-align: top;\n",
       "    }\n",
       "\n",
       "    .dataframe thead th {\n",
       "        text-align: right;\n",
       "    }\n",
       "</style>\n",
       "<table border=\"1\" class=\"dataframe\">\n",
       "  <thead>\n",
       "    <tr style=\"text-align: right;\">\n",
       "      <th></th>\n",
       "      <th>Text</th>\n",
       "      <th>Text_2</th>\n",
       "    </tr>\n",
       "  </thead>\n",
       "  <tbody>\n",
       "    <tr>\n",
       "      <th>0</th>\n",
       "      <td>Yapay Zeka Nedir, Ne İşe Yarar?\\n\\nYapay zeka ...</td>\n",
       "      <td>[yapa, zek, nedi, iş, yara, yapa, zek, y, bilg...</td>\n",
       "    </tr>\n",
       "    <tr>\n",
       "      <th>1</th>\n",
       "      <td>🔎 Verilerinizi analiz edin: \\nChatGPT'yi kulla...</td>\n",
       "      <td>[ver, anali, edi, chatgpty, kullanara, doğa, d...</td>\n",
       "    </tr>\n",
       "    <tr>\n",
       "      <th>2</th>\n",
       "      <td>Öncelikle yapay zekanın ne olduğunu, #dijitala...</td>\n",
       "      <td>[önceli, yapa, zek, olduğun, i, öneml, oldu, k...</td>\n",
       "    </tr>\n",
       "    <tr>\n",
       "      <th>3</th>\n",
       "      <td>9. Baidu Research: Çin'in önde gelen arama mot...</td>\n",
       "      <td>[baid, researc, çi, ö, gel, ar, moto, baidu, a...</td>\n",
       "    </tr>\n",
       "    <tr>\n",
       "      <th>4</th>\n",
       "      <td>4. Microsoft AI: Microsoft'un yapay zeka tekno...</td>\n",
       "      <td>[microsof, a, microsof, yapa, zek, teknoloj, o...</td>\n",
       "    </tr>\n",
       "  </tbody>\n",
       "</table>\n",
       "</div>"
      ],
      "text/plain": [
       "                                                Text  \\\n",
       "0  Yapay Zeka Nedir, Ne İşe Yarar?\\n\\nYapay zeka ...   \n",
       "1  🔎 Verilerinizi analiz edin: \\nChatGPT'yi kulla...   \n",
       "2  Öncelikle yapay zekanın ne olduğunu, #dijitala...   \n",
       "3  9. Baidu Research: Çin'in önde gelen arama mot...   \n",
       "4  4. Microsoft AI: Microsoft'un yapay zeka tekno...   \n",
       "\n",
       "                                              Text_2  \n",
       "0  [yapa, zek, nedi, iş, yara, yapa, zek, y, bilg...  \n",
       "1  [ver, anali, edi, chatgpty, kullanara, doğa, d...  \n",
       "2  [önceli, yapa, zek, olduğun, i, öneml, oldu, k...  \n",
       "3  [baid, researc, çi, ö, gel, ar, moto, baidu, a...  \n",
       "4  [microsof, a, microsof, yapa, zek, teknoloj, o...  "
      ]
     },
     "execution_count": 80,
     "metadata": {},
     "output_type": "execute_result"
    }
   ],
   "source": [
    "df.head()"
   ]
  },
  {
   "cell_type": "code",
   "execution_count": 1,
   "id": "deb7590b-e6c9-4d47-a598-9392c1674c38",
   "metadata": {},
   "outputs": [],
   "source": [
    "import on_islem\n",
    "import pandas as pd"
   ]
  },
  {
   "cell_type": "code",
   "execution_count": 4,
   "id": "897182d2-d90a-4cdf-8481-0a1d2c62d5c3",
   "metadata": {},
   "outputs": [
    {
     "data": {
      "text/html": [
       "<div>\n",
       "<style scoped>\n",
       "    .dataframe tbody tr th:only-of-type {\n",
       "        vertical-align: middle;\n",
       "    }\n",
       "\n",
       "    .dataframe tbody tr th {\n",
       "        vertical-align: top;\n",
       "    }\n",
       "\n",
       "    .dataframe thead th {\n",
       "        text-align: right;\n",
       "    }\n",
       "</style>\n",
       "<table border=\"1\" class=\"dataframe\">\n",
       "  <thead>\n",
       "    <tr style=\"text-align: right;\">\n",
       "      <th></th>\n",
       "      <th>Text</th>\n",
       "    </tr>\n",
       "  </thead>\n",
       "  <tbody>\n",
       "    <tr>\n",
       "      <th>0</th>\n",
       "      <td>Yapay Zeka Nedir, Ne İşe Yarar?\\n\\nYapay zeka ...</td>\n",
       "    </tr>\n",
       "    <tr>\n",
       "      <th>1</th>\n",
       "      <td>🔎 Verilerinizi analiz edin: \\nChatGPT'yi kulla...</td>\n",
       "    </tr>\n",
       "    <tr>\n",
       "      <th>2</th>\n",
       "      <td>Öncelikle yapay zekanın ne olduğunu, #dijitala...</td>\n",
       "    </tr>\n",
       "    <tr>\n",
       "      <th>3</th>\n",
       "      <td>9. Baidu Research: Çin'in önde gelen arama mot...</td>\n",
       "    </tr>\n",
       "    <tr>\n",
       "      <th>4</th>\n",
       "      <td>4. Microsoft AI: Microsoft'un yapay zeka tekno...</td>\n",
       "    </tr>\n",
       "  </tbody>\n",
       "</table>\n",
       "</div>"
      ],
      "text/plain": [
       "                                                Text\n",
       "0  Yapay Zeka Nedir, Ne İşe Yarar?\\n\\nYapay zeka ...\n",
       "1  🔎 Verilerinizi analiz edin: \\nChatGPT'yi kulla...\n",
       "2  Öncelikle yapay zekanın ne olduğunu, #dijitala...\n",
       "3  9. Baidu Research: Çin'in önde gelen arama mot...\n",
       "4  4. Microsoft AI: Microsoft'un yapay zeka tekno..."
      ]
     },
     "execution_count": 4,
     "metadata": {},
     "output_type": "execute_result"
    }
   ],
   "source": [
    "df = pd.read_csv(\"X:\\\\EEM Dosyalar\\\\Yazan Zeka 4e Academy\\\\NLP Dogal Dil\\\\Natural-Language-Processing/data/nlp-230518-121949.csv\",\n",
    "                index_col = 0)\n",
    "df.head()"
   ]
  },
  {
   "cell_type": "code",
   "execution_count": 7,
   "id": "a5fa0376-19fb-412f-9784-ca7633dc6d59",
   "metadata": {},
   "outputs": [
    {
     "data": {
      "text/html": [
       "<div>\n",
       "<style scoped>\n",
       "    .dataframe tbody tr th:only-of-type {\n",
       "        vertical-align: middle;\n",
       "    }\n",
       "\n",
       "    .dataframe tbody tr th {\n",
       "        vertical-align: top;\n",
       "    }\n",
       "\n",
       "    .dataframe thead th {\n",
       "        text-align: right;\n",
       "    }\n",
       "</style>\n",
       "<table border=\"1\" class=\"dataframe\">\n",
       "  <thead>\n",
       "    <tr style=\"text-align: right;\">\n",
       "      <th></th>\n",
       "      <th>Text</th>\n",
       "      <th>Text_2</th>\n",
       "    </tr>\n",
       "  </thead>\n",
       "  <tbody>\n",
       "    <tr>\n",
       "      <th>0</th>\n",
       "      <td>Yapay Zeka Nedir, Ne İşe Yarar?\\n\\nYapay zeka ...</td>\n",
       "      <td>[yapa, zek, nedi, iş, yara, yapa, zek, y, bilg...</td>\n",
       "    </tr>\n",
       "    <tr>\n",
       "      <th>1</th>\n",
       "      <td>🔎 Verilerinizi analiz edin: \\nChatGPT'yi kulla...</td>\n",
       "      <td>[ver, anali, edi, chatgpty, kullanara, doğa, d...</td>\n",
       "    </tr>\n",
       "    <tr>\n",
       "      <th>2</th>\n",
       "      <td>Öncelikle yapay zekanın ne olduğunu, #dijitala...</td>\n",
       "      <td>[önceli, yapa, zek, olduğun, i, öneml, oldu, k...</td>\n",
       "    </tr>\n",
       "    <tr>\n",
       "      <th>3</th>\n",
       "      <td>9. Baidu Research: Çin'in önde gelen arama mot...</td>\n",
       "      <td>[baid, researc, çi, ö, gel, ar, moto, baidu, a...</td>\n",
       "    </tr>\n",
       "    <tr>\n",
       "      <th>4</th>\n",
       "      <td>4. Microsoft AI: Microsoft'un yapay zeka tekno...</td>\n",
       "      <td>[microsof, a, microsof, yapa, zek, teknoloj, o...</td>\n",
       "    </tr>\n",
       "  </tbody>\n",
       "</table>\n",
       "</div>"
      ],
      "text/plain": [
       "                                                Text  \\\n",
       "0  Yapay Zeka Nedir, Ne İşe Yarar?\\n\\nYapay zeka ...   \n",
       "1  🔎 Verilerinizi analiz edin: \\nChatGPT'yi kulla...   \n",
       "2  Öncelikle yapay zekanın ne olduğunu, #dijitala...   \n",
       "3  9. Baidu Research: Çin'in önde gelen arama mot...   \n",
       "4  4. Microsoft AI: Microsoft'un yapay zeka tekno...   \n",
       "\n",
       "                                              Text_2  \n",
       "0  [yapa, zek, nedi, iş, yara, yapa, zek, y, bilg...  \n",
       "1  [ver, anali, edi, chatgpty, kullanara, doğa, d...  \n",
       "2  [önceli, yapa, zek, olduğun, i, öneml, oldu, k...  \n",
       "3  [baid, researc, çi, ö, gel, ar, moto, baidu, a...  \n",
       "4  [microsof, a, microsof, yapa, zek, teknoloj, o...  "
      ]
     },
     "execution_count": 7,
     "metadata": {},
     "output_type": "execute_result"
    }
   ],
   "source": [
    "df[\"Text_2\"] = df[\"Text\"].apply(on_islem.pre_processing)\n",
    "df[\"Text_2\"] = df[\"Text_2\"].apply(on_islem.remove_space)\n",
    "df.head()"
   ]
  }
 ],
 "metadata": {
  "kernelspec": {
   "display_name": "Python 3 (ipykernel)",
   "language": "python",
   "name": "python3"
  },
  "language_info": {
   "codemirror_mode": {
    "name": "ipython",
    "version": 3
   },
   "file_extension": ".py",
   "mimetype": "text/x-python",
   "name": "python",
   "nbconvert_exporter": "python",
   "pygments_lexer": "ipython3",
   "version": "3.10.10"
  }
 },
 "nbformat": 4,
 "nbformat_minor": 5
}
